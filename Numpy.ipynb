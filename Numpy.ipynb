{
 "cells": [
  {
   "cell_type": "code",
   "execution_count": 1,
   "id": "e08d227f",
   "metadata": {},
   "outputs": [
    {
     "name": "stdout",
     "output_type": "stream",
     "text": [
      "Requirement already satisfied: numpy in c:\\users\\ajay\\anaconda3\\lib\\site-packages (1.24.3)\n",
      "Note: you may need to restart the kernel to use updated packages.\n"
     ]
    }
   ],
   "source": [
    "pip install numpy"
   ]
  },
  {
   "cell_type": "code",
   "execution_count": 2,
   "id": "fccb6d7d",
   "metadata": {},
   "outputs": [
    {
     "name": "stdout",
     "output_type": "stream",
     "text": [
      "[1 2 3 4] <class 'numpy.ndarray'>\n",
      "1.24.3\n"
     ]
    }
   ],
   "source": [
    "import numpy as np\n",
    "arr=np.array([1,2,3,4])\n",
    "print(arr,type(arr))\n",
    "print(np.__version__)"
   ]
  },
  {
   "cell_type": "code",
   "execution_count": 9,
   "id": "2f1d2ff7",
   "metadata": {},
   "outputs": [
    {
     "name": "stdout",
     "output_type": "stream",
     "text": [
      "2 <class 'numpy.ndarray'> 0\n",
      "[1 2 3 4] <class 'numpy.ndarray'> 1\n",
      "[[1 2 3]\n",
      " [4 5 6]] <class 'numpy.ndarray'> 2\n",
      "[[[  1   2]\n",
      "  [  4   5]]\n",
      "\n",
      " [[100 200]\n",
      "  [600 700]]] <class 'numpy.ndarray'> 3\n",
      "[[[[[5]]]]] <class 'numpy.ndarray'> 5\n"
     ]
    }
   ],
   "source": [
    "#one dimension array\n",
    "import numpy as np\n",
    "arr=np.array(2)\n",
    "print(arr,type(arr),arr.ndim)\n",
    "arr1=np.array([1,2,3,4])\n",
    "print(arr1,type(arr1),arr1.ndim)\n",
    "arr2=np.array([[1,2,3],[4,5,6]])\n",
    "print(arr2,type(arr2),arr2.ndim)\n",
    "arr3=np.array([[[1,2],[4,5]],[[100,200],[600,700]]])\n",
    "print(arr3,type(arr3),arr3.ndim)\n",
    "arrn=np.array(5,ndmin=5)\n",
    "print(arrn,type(arrn),arrn.ndim)"
   ]
  },
  {
   "cell_type": "code",
   "execution_count": 14,
   "id": "4dc3651d",
   "metadata": {},
   "outputs": [
    {
     "name": "stdout",
     "output_type": "stream",
     "text": [
      "1\n",
      "3\n",
      "200\n"
     ]
    }
   ],
   "source": [
    "#accessing\n",
    "print(arr1[0])\n",
    "print(arr2[0,2])\n",
    "print(arr3[1,0,1])"
   ]
  },
  {
   "cell_type": "code",
   "execution_count": 16,
   "id": "9337676c",
   "metadata": {},
   "outputs": [
    {
     "name": "stdout",
     "output_type": "stream",
     "text": [
      "[1 3]\n",
      "2\n"
     ]
    }
   ],
   "source": [
    "#slicing\n",
    "print(arr1[0::2])\n",
    "print(arr)"
   ]
  },
  {
   "cell_type": "code",
   "execution_count": 20,
   "id": "a3239d30",
   "metadata": {},
   "outputs": [
    {
     "name": "stdout",
     "output_type": "stream",
     "text": [
      "[0 1 2 3] [False  True  True  True]\n",
      "int32\n",
      "bool\n"
     ]
    }
   ],
   "source": [
    "import numpy as np\n",
    "arr=np.array([0,1,2,3])\n",
    "newarr=arr.astype(bool)\n",
    "print(arr,newarr)\n",
    "print(arr.dtype)\n",
    "print(newarr.dtype)"
   ]
  },
  {
   "cell_type": "code",
   "execution_count": 22,
   "id": "8ea3c668",
   "metadata": {},
   "outputs": [
    {
     "name": "stdout",
     "output_type": "stream",
     "text": [
      "[ 1 50  3  4] [1 2 3 4]\n"
     ]
    }
   ],
   "source": [
    "arr=np.array([1,2,3,4])\n",
    "new=arr.copy()\n",
    "arr[1]=50\n",
    "print(arr,new)"
   ]
  },
  {
   "cell_type": "code",
   "execution_count": 4,
   "id": "5ab3323d",
   "metadata": {},
   "outputs": [
    {
     "name": "stdout",
     "output_type": "stream",
     "text": [
      "[143 200 345] [143 200 345]\n"
     ]
    }
   ],
   "source": [
    "arr10=np.array([199,200,345])\n",
    "newa=arr10.view()\n",
    "arr10[0]=143\n",
    "print(arr10,newa)"
   ]
  },
  {
   "cell_type": "code",
   "execution_count": 7,
   "id": "5d555545",
   "metadata": {},
   "outputs": [
    {
     "name": "stdout",
     "output_type": "stream",
     "text": [
      "(3,)\n"
     ]
    }
   ],
   "source": [
    "print(newa.shape)"
   ]
  },
  {
   "cell_type": "code",
   "execution_count": 8,
   "id": "6dba283c",
   "metadata": {},
   "outputs": [
    {
     "name": "stdout",
     "output_type": "stream",
     "text": [
      "1\n",
      "2\n",
      "3\n",
      "4\n",
      "5\n",
      "6\n",
      "7\n",
      "8\n"
     ]
    }
   ],
   "source": [
    "import numpy as np\n",
    "\n",
    "arr = np.array([[[1, 2], [3, 4]], [[5, 6], [7, 8]]])\n",
    "for i in np.nditer(arr):\n",
    "    print(i)"
   ]
  }
 ],
 "metadata": {
  "kernelspec": {
   "display_name": "Python 3 (ipykernel)",
   "language": "python",
   "name": "python3"
  },
  "language_info": {
   "codemirror_mode": {
    "name": "ipython",
    "version": 3
   },
   "file_extension": ".py",
   "mimetype": "text/x-python",
   "name": "python",
   "nbconvert_exporter": "python",
   "pygments_lexer": "ipython3",
   "version": "3.11.4"
  }
 },
 "nbformat": 4,
 "nbformat_minor": 5
}
